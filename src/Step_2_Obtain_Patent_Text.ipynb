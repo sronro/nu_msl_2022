{
 "cells": [
  {
   "cell_type": "code",
   "execution_count": 30,
   "metadata": {},
   "outputs": [],
   "source": [
    "\n",
    "import selenium\n",
    "from selenium import webdriver\n",
    "from time import sleep\n",
    "import pandas as pd\n",
    "import pickle"
   ]
  },
  {
   "cell_type": "markdown",
   "metadata": {},
   "source": [
    "## Scrape text for Abstracts using Selenium\n",
    "\n",
    "Within a patent, abstracts tend to be shorter and tend to contain the gist of what the patent is about. Such distilled information tend to be helpful for topic modeling as it means better results and less cleaning/text normalization."
   ]
  },
  {
   "cell_type": "markdown",
   "metadata": {},
   "source": [
    "Read the `pickle` file from last step"
   ]
  },
  {
   "cell_type": "code",
   "execution_count": 31,
   "metadata": {},
   "outputs": [],
   "source": [
    "file_path = './data/outputs/autonomous.pkl'\n",
    "df = pd.read_pickle(file_path)"
   ]
  },
  {
   "cell_type": "code",
   "execution_count": 32,
   "metadata": {},
   "outputs": [],
   "source": [
    "df = df[:50]"
   ]
  },
  {
   "cell_type": "markdown",
   "metadata": {},
   "source": [
    "Import the functions to get chrome driver and do queries"
   ]
  },
  {
   "cell_type": "code",
   "execution_count": 33,
   "metadata": {},
   "outputs": [],
   "source": [
    "from utils.selenium_utils import get_driver, get_element"
   ]
  },
  {
   "cell_type": "code",
   "execution_count": 34,
   "metadata": {
    "tags": []
   },
   "outputs": [],
   "source": [
    "driver = get_driver()"
   ]
  },
  {
   "cell_type": "code",
   "execution_count": 35,
   "metadata": {},
   "outputs": [],
   "source": [
    "query = '//*[@id=\"abstract\"]'"
   ]
  },
  {
   "cell_type": "code",
   "execution_count": 36,
   "metadata": {},
   "outputs": [
    {
     "data": {
      "text/plain": [
       "'https://patents.google.com/patent/US9315178B1/en'"
      ]
     },
     "execution_count": 36,
     "metadata": {},
     "output_type": "execute_result"
    }
   ],
   "source": [
    "# Getting a single url to test the result\n",
    "url = df.loc[1, 'result link']\n",
    "url"
   ]
  },
  {
   "cell_type": "code",
   "execution_count": 37,
   "metadata": {},
   "outputs": [
    {
     "data": {
      "text/plain": [
       "['',\n",
       " 'Abstract\\nIn an example method, a vehicle configured to operate in an autonomous mode could predict an output of the vehicle based on an input provided to control the vehicle and a state of the vehicle. The method could include receiving an indication of an input from at least one input-indication sensor and an indication of an output from at least one output-indication sensor. A predicted output value could be calculated based on the indication of the input and a state of the vehicle. The predicted output value could be compared with the indication of the output. If the comparison is not within a threshold range, an alert indicator could be created. Upon creating the alert indicator, an alert action could be activated.']"
      ]
     },
     "execution_count": 37,
     "metadata": {},
     "output_type": "execute_result"
    }
   ],
   "source": [
    "get_element(url, query, driver)"
   ]
  },
  {
   "cell_type": "markdown",
   "metadata": {},
   "source": [
    "### Apply the function for all the urls\n",
    "\n",
    "For this we will use `apply()` pandas function. This will run the function on every row\n",
    "\n",
    "We can use `progress_apply()` to get a pretty progress bar printed (import `tqdm` is needed)"
   ]
  },
  {
   "cell_type": "code",
   "execution_count": 38,
   "metadata": {},
   "outputs": [],
   "source": [
    "from tqdm.notebook import tqdm\n",
    "tqdm.pandas()"
   ]
  },
  {
   "cell_type": "code",
   "execution_count": 49,
   "metadata": {},
   "outputs": [
    {
     "data": {
      "application/vnd.jupyter.widget-view+json": {
       "model_id": "00a6388162124f469141bebc11a86aa1",
       "version_major": 2,
       "version_minor": 0
      },
      "text/plain": [
       "  0%|          | 0/50 [00:00<?, ?it/s]"
      ]
     },
     "metadata": {},
     "output_type": "display_data"
    }
   ],
   "source": [
    "# Apply the function to every ['result link'] \n",
    "df['text'] = df['result link'].progress_apply(lambda url: get_element(url,'//*[@id=\"abstract\"]', driver ))"
   ]
  },
  {
   "cell_type": "markdown",
   "metadata": {},
   "source": [
    "Clean and change datatypes for Exploratory Data Analysis"
   ]
  },
  {
   "cell_type": "code",
   "execution_count": 50,
   "metadata": {
    "tags": []
   },
   "outputs": [],
   "source": [
    "df['priority date'] = pd.to_datetime(df['priority date'])\n",
    "df['filing/creation date'] = pd.to_datetime(df['filing/creation date'])\n",
    "df['publication date'] = pd.to_datetime(df['publication date'])\n",
    "df['grant date'] = pd.to_datetime(df['grant date'], errors = 'ignore')"
   ]
  },
  {
   "cell_type": "code",
   "execution_count": 51,
   "metadata": {},
   "outputs": [
    {
     "data": {
      "text/plain": [
       "id                              object\n",
       "title                           object\n",
       "assignee                        object\n",
       "inventor/author                 object\n",
       "priority date           datetime64[ns]\n",
       "filing/creation date    datetime64[ns]\n",
       "publication date        datetime64[ns]\n",
       "grant date              datetime64[ns]\n",
       "result link                     object\n",
       "abstract                        object\n",
       "text                            object\n",
       "dtype: object"
      ]
     },
     "execution_count": 51,
     "metadata": {},
     "output_type": "execute_result"
    }
   ],
   "source": [
    "df.dtypes"
   ]
  },
  {
   "cell_type": "code",
   "execution_count": 52,
   "metadata": {
    "scrolled": true
   },
   "outputs": [
    {
     "data": {
      "text/html": [
       "<div>\n",
       "<style scoped>\n",
       "    .dataframe tbody tr th:only-of-type {\n",
       "        vertical-align: middle;\n",
       "    }\n",
       "\n",
       "    .dataframe tbody tr th {\n",
       "        vertical-align: top;\n",
       "    }\n",
       "\n",
       "    .dataframe thead th {\n",
       "        text-align: right;\n",
       "    }\n",
       "</style>\n",
       "<table border=\"1\" class=\"dataframe\">\n",
       "  <thead>\n",
       "    <tr style=\"text-align: right;\">\n",
       "      <th></th>\n",
       "      <th>id</th>\n",
       "      <th>title</th>\n",
       "      <th>assignee</th>\n",
       "      <th>inventor/author</th>\n",
       "      <th>priority date</th>\n",
       "      <th>filing/creation date</th>\n",
       "      <th>publication date</th>\n",
       "      <th>grant date</th>\n",
       "      <th>result link</th>\n",
       "      <th>abstract</th>\n",
       "      <th>text</th>\n",
       "    </tr>\n",
       "    <tr>\n",
       "      <th>priority date</th>\n",
       "      <th></th>\n",
       "      <th></th>\n",
       "      <th></th>\n",
       "      <th></th>\n",
       "      <th></th>\n",
       "      <th></th>\n",
       "      <th></th>\n",
       "      <th></th>\n",
       "      <th></th>\n",
       "      <th></th>\n",
       "      <th></th>\n",
       "    </tr>\n",
       "  </thead>\n",
       "  <tbody>\n",
       "    <tr>\n",
       "      <th>2015-03-19</th>\n",
       "      <td>US-9835465-B2</td>\n",
       "      <td>Method for operating an autonomous vehicle on ...</td>\n",
       "      <td>Ford Global Technologies, Llc</td>\n",
       "      <td>Frederic Stefan</td>\n",
       "      <td>2015-03-19</td>\n",
       "      <td>2016-03-16</td>\n",
       "      <td>2017-12-05</td>\n",
       "      <td>2017-12-05</td>\n",
       "      <td>https://patents.google.com/patent/US9835465B2/en</td>\n",
       "      <td>[, Abstract\\nA method for operating a motor ve...</td>\n",
       "      <td>[, Abstract\\nA method for operating a motor ve...</td>\n",
       "    </tr>\n",
       "  </tbody>\n",
       "</table>\n",
       "</div>"
      ],
      "text/plain": [
       "                          id  \\\n",
       "priority date                  \n",
       "2015-03-19     US-9835465-B2   \n",
       "\n",
       "                                                           title  \\\n",
       "priority date                                                      \n",
       "2015-03-19     Method for operating an autonomous vehicle on ...   \n",
       "\n",
       "                                    assignee  inventor/author priority date  \\\n",
       "priority date                                                                 \n",
       "2015-03-19     Ford Global Technologies, Llc  Frederic Stefan    2015-03-19   \n",
       "\n",
       "              filing/creation date publication date grant date  \\\n",
       "priority date                                                    \n",
       "2015-03-19              2016-03-16       2017-12-05 2017-12-05   \n",
       "\n",
       "                                                    result link  \\\n",
       "priority date                                                     \n",
       "2015-03-19     https://patents.google.com/patent/US9835465B2/en   \n",
       "\n",
       "                                                        abstract  \\\n",
       "priority date                                                      \n",
       "2015-03-19     [, Abstract\\nA method for operating a motor ve...   \n",
       "\n",
       "                                                            text  \n",
       "priority date                                                     \n",
       "2015-03-19     [, Abstract\\nA method for operating a motor ve...  "
      ]
     },
     "execution_count": 52,
     "metadata": {},
     "output_type": "execute_result"
    }
   ],
   "source": [
    "df.sample()"
   ]
  },
  {
   "cell_type": "code",
   "execution_count": 53,
   "metadata": {},
   "outputs": [
    {
     "data": {
      "text/html": [
       "<div>\n",
       "<style scoped>\n",
       "    .dataframe tbody tr th:only-of-type {\n",
       "        vertical-align: middle;\n",
       "    }\n",
       "\n",
       "    .dataframe tbody tr th {\n",
       "        vertical-align: top;\n",
       "    }\n",
       "\n",
       "    .dataframe thead th {\n",
       "        text-align: right;\n",
       "    }\n",
       "</style>\n",
       "<table border=\"1\" class=\"dataframe\">\n",
       "  <thead>\n",
       "    <tr style=\"text-align: right;\">\n",
       "      <th></th>\n",
       "      <th>priority date</th>\n",
       "      <th>filing/creation date</th>\n",
       "      <th>publication date</th>\n",
       "      <th>grant date</th>\n",
       "    </tr>\n",
       "  </thead>\n",
       "  <tbody>\n",
       "    <tr>\n",
       "      <th>count</th>\n",
       "      <td>50</td>\n",
       "      <td>50</td>\n",
       "      <td>50</td>\n",
       "      <td>39</td>\n",
       "    </tr>\n",
       "    <tr>\n",
       "      <th>mean</th>\n",
       "      <td>2015-12-04 02:52:48</td>\n",
       "      <td>2016-11-22 04:48:00</td>\n",
       "      <td>2018-10-29 17:45:36</td>\n",
       "      <td>2018-10-19 09:50:46.153846272</td>\n",
       "    </tr>\n",
       "    <tr>\n",
       "      <th>min</th>\n",
       "      <td>2012-03-15 00:00:00</td>\n",
       "      <td>2012-04-13 00:00:00</td>\n",
       "      <td>2014-03-18 00:00:00</td>\n",
       "      <td>2014-03-18 00:00:00</td>\n",
       "    </tr>\n",
       "    <tr>\n",
       "      <th>25%</th>\n",
       "      <td>2014-04-23 00:00:00</td>\n",
       "      <td>2015-12-24 12:00:00</td>\n",
       "      <td>2017-10-26 06:00:00</td>\n",
       "      <td>2017-05-09 00:00:00</td>\n",
       "    </tr>\n",
       "    <tr>\n",
       "      <th>50%</th>\n",
       "      <td>2016-04-03 12:00:00</td>\n",
       "      <td>2017-06-12 12:00:00</td>\n",
       "      <td>2019-01-08 00:00:00</td>\n",
       "      <td>2019-02-05 00:00:00</td>\n",
       "    </tr>\n",
       "    <tr>\n",
       "      <th>75%</th>\n",
       "      <td>2017-06-12 18:00:00</td>\n",
       "      <td>2018-01-18 12:00:00</td>\n",
       "      <td>2020-01-08 12:00:00</td>\n",
       "      <td>2020-06-16 00:00:00</td>\n",
       "    </tr>\n",
       "    <tr>\n",
       "      <th>max</th>\n",
       "      <td>2018-07-19 00:00:00</td>\n",
       "      <td>2019-09-06 00:00:00</td>\n",
       "      <td>2021-11-09 00:00:00</td>\n",
       "      <td>2021-11-09 00:00:00</td>\n",
       "    </tr>\n",
       "  </tbody>\n",
       "</table>\n",
       "</div>"
      ],
      "text/plain": [
       "             priority date filing/creation date     publication date  \\\n",
       "count                   50                   50                   50   \n",
       "mean   2015-12-04 02:52:48  2016-11-22 04:48:00  2018-10-29 17:45:36   \n",
       "min    2012-03-15 00:00:00  2012-04-13 00:00:00  2014-03-18 00:00:00   \n",
       "25%    2014-04-23 00:00:00  2015-12-24 12:00:00  2017-10-26 06:00:00   \n",
       "50%    2016-04-03 12:00:00  2017-06-12 12:00:00  2019-01-08 00:00:00   \n",
       "75%    2017-06-12 18:00:00  2018-01-18 12:00:00  2020-01-08 12:00:00   \n",
       "max    2018-07-19 00:00:00  2019-09-06 00:00:00  2021-11-09 00:00:00   \n",
       "\n",
       "                          grant date  \n",
       "count                             39  \n",
       "mean   2018-10-19 09:50:46.153846272  \n",
       "min              2014-03-18 00:00:00  \n",
       "25%              2017-05-09 00:00:00  \n",
       "50%              2019-02-05 00:00:00  \n",
       "75%              2020-06-16 00:00:00  \n",
       "max              2021-11-09 00:00:00  "
      ]
     },
     "execution_count": 53,
     "metadata": {},
     "output_type": "execute_result"
    }
   ],
   "source": [
    "df.describe(datetime_is_numeric=True)"
   ]
  },
  {
   "cell_type": "markdown",
   "metadata": {},
   "source": [
    "## Set index to patents' priority date"
   ]
  },
  {
   "cell_type": "code",
   "execution_count": 54,
   "metadata": {
    "tags": []
   },
   "outputs": [],
   "source": [
    "df.index = df['priority date']\n",
    "# df = df.set_index('priority date')"
   ]
  },
  {
   "cell_type": "code",
   "execution_count": 55,
   "metadata": {},
   "outputs": [
    {
     "data": {
      "text/html": [
       "<div>\n",
       "<style scoped>\n",
       "    .dataframe tbody tr th:only-of-type {\n",
       "        vertical-align: middle;\n",
       "    }\n",
       "\n",
       "    .dataframe tbody tr th {\n",
       "        vertical-align: top;\n",
       "    }\n",
       "\n",
       "    .dataframe thead th {\n",
       "        text-align: right;\n",
       "    }\n",
       "</style>\n",
       "<table border=\"1\" class=\"dataframe\">\n",
       "  <thead>\n",
       "    <tr style=\"text-align: right;\">\n",
       "      <th></th>\n",
       "      <th>id</th>\n",
       "      <th>title</th>\n",
       "      <th>assignee</th>\n",
       "      <th>inventor/author</th>\n",
       "      <th>priority date</th>\n",
       "      <th>filing/creation date</th>\n",
       "      <th>publication date</th>\n",
       "      <th>grant date</th>\n",
       "      <th>result link</th>\n",
       "      <th>abstract</th>\n",
       "      <th>text</th>\n",
       "    </tr>\n",
       "    <tr>\n",
       "      <th>priority date</th>\n",
       "      <th></th>\n",
       "      <th></th>\n",
       "      <th></th>\n",
       "      <th></th>\n",
       "      <th></th>\n",
       "      <th></th>\n",
       "      <th></th>\n",
       "      <th></th>\n",
       "      <th></th>\n",
       "      <th></th>\n",
       "      <th></th>\n",
       "    </tr>\n",
       "  </thead>\n",
       "  <tbody>\n",
       "    <tr>\n",
       "      <th>2018-01-02</th>\n",
       "      <td>US-2019204842-A1</td>\n",
       "      <td>Trajectory planner with dynamic cost learning ...</td>\n",
       "      <td>GM Global Technology Operations LLC</td>\n",
       "      <td>Sayyed Rouhollah Jafari Tafti, Guangyu J. Zou,...</td>\n",
       "      <td>2018-01-02</td>\n",
       "      <td>2018-01-02</td>\n",
       "      <td>2019-07-04</td>\n",
       "      <td>NaT</td>\n",
       "      <td>https://patents.google.com/patent/US2019020484...</td>\n",
       "      <td>[, Abstract\\nA vehicle, system and method of a...</td>\n",
       "      <td>[, Abstract\\nA vehicle, system and method of a...</td>\n",
       "    </tr>\n",
       "    <tr>\n",
       "      <th>2012-04-13</th>\n",
       "      <td>US-9315178-B1</td>\n",
       "      <td>Model checking for autonomous vehicles</td>\n",
       "      <td>Google Inc.</td>\n",
       "      <td>David I. Ferguson, Dmitri A. Dolgov, Christoph...</td>\n",
       "      <td>2012-04-13</td>\n",
       "      <td>2012-04-13</td>\n",
       "      <td>2016-04-19</td>\n",
       "      <td>2016-04-19</td>\n",
       "      <td>https://patents.google.com/patent/US9315178B1/en</td>\n",
       "      <td>[, Abstract\\nIn an example method, a vehicle c...</td>\n",
       "      <td>[, Abstract\\nIn an example method, a vehicle c...</td>\n",
       "    </tr>\n",
       "    <tr>\n",
       "      <th>2017-01-13</th>\n",
       "      <td>US-2018201256-A1</td>\n",
       "      <td>Autonomous parking of vehicles inperpendicular...</td>\n",
       "      <td>Ford Global Technologies, Llc</td>\n",
       "      <td>Eric Hongtei Tseng, Li Xu, Kyle Simmons, Dougl...</td>\n",
       "      <td>2017-01-13</td>\n",
       "      <td>2017-01-13</td>\n",
       "      <td>2018-07-19</td>\n",
       "      <td>NaT</td>\n",
       "      <td>https://patents.google.com/patent/US2018020125...</td>\n",
       "      <td>[, Abstract\\nMethod and apparatus are disclose...</td>\n",
       "      <td>[, Abstract\\nMethod and apparatus are disclose...</td>\n",
       "    </tr>\n",
       "    <tr>\n",
       "      <th>2015-03-19</th>\n",
       "      <td>US-9835465-B2</td>\n",
       "      <td>Method for operating an autonomous vehicle on ...</td>\n",
       "      <td>Ford Global Technologies, Llc</td>\n",
       "      <td>Frederic Stefan</td>\n",
       "      <td>2015-03-19</td>\n",
       "      <td>2016-03-16</td>\n",
       "      <td>2017-12-05</td>\n",
       "      <td>2017-12-05</td>\n",
       "      <td>https://patents.google.com/patent/US9835465B2/en</td>\n",
       "      <td>[, Abstract\\nA method for operating a motor ve...</td>\n",
       "      <td>[, Abstract\\nA method for operating a motor ve...</td>\n",
       "    </tr>\n",
       "    <tr>\n",
       "      <th>2016-05-04</th>\n",
       "      <td>US-10486699-B2</td>\n",
       "      <td>Off-road autonomous driving</td>\n",
       "      <td>Ford Global Technologies, Llc</td>\n",
       "      <td>Jianbo Lu, Davor David Hrovat, Hongtei Eric Tseng</td>\n",
       "      <td>2016-05-04</td>\n",
       "      <td>2017-09-28</td>\n",
       "      <td>2019-11-26</td>\n",
       "      <td>2019-11-26</td>\n",
       "      <td>https://patents.google.com/patent/US10486699B2/en</td>\n",
       "      <td>[, Abstract\\nA vehicle system includes a proce...</td>\n",
       "      <td>[, Abstract\\nA vehicle system includes a proce...</td>\n",
       "    </tr>\n",
       "  </tbody>\n",
       "</table>\n",
       "</div>"
      ],
      "text/plain": [
       "                             id  \\\n",
       "priority date                     \n",
       "2018-01-02     US-2019204842-A1   \n",
       "2012-04-13        US-9315178-B1   \n",
       "2017-01-13     US-2018201256-A1   \n",
       "2015-03-19        US-9835465-B2   \n",
       "2016-05-04       US-10486699-B2   \n",
       "\n",
       "                                                           title  \\\n",
       "priority date                                                      \n",
       "2018-01-02     Trajectory planner with dynamic cost learning ...   \n",
       "2012-04-13               Model checking for autonomous vehicles    \n",
       "2017-01-13     Autonomous parking of vehicles inperpendicular...   \n",
       "2015-03-19     Method for operating an autonomous vehicle on ...   \n",
       "2016-05-04                          Off-road autonomous driving    \n",
       "\n",
       "                                          assignee  \\\n",
       "priority date                                        \n",
       "2018-01-02     GM Global Technology Operations LLC   \n",
       "2012-04-13                             Google Inc.   \n",
       "2017-01-13           Ford Global Technologies, Llc   \n",
       "2015-03-19           Ford Global Technologies, Llc   \n",
       "2016-05-04           Ford Global Technologies, Llc   \n",
       "\n",
       "                                                 inventor/author  \\\n",
       "priority date                                                      \n",
       "2018-01-02     Sayyed Rouhollah Jafari Tafti, Guangyu J. Zou,...   \n",
       "2012-04-13     David I. Ferguson, Dmitri A. Dolgov, Christoph...   \n",
       "2017-01-13     Eric Hongtei Tseng, Li Xu, Kyle Simmons, Dougl...   \n",
       "2015-03-19                                       Frederic Stefan   \n",
       "2016-05-04     Jianbo Lu, Davor David Hrovat, Hongtei Eric Tseng   \n",
       "\n",
       "              priority date filing/creation date publication date grant date  \\\n",
       "priority date                                                                  \n",
       "2018-01-02       2018-01-02           2018-01-02       2019-07-04        NaT   \n",
       "2012-04-13       2012-04-13           2012-04-13       2016-04-19 2016-04-19   \n",
       "2017-01-13       2017-01-13           2017-01-13       2018-07-19        NaT   \n",
       "2015-03-19       2015-03-19           2016-03-16       2017-12-05 2017-12-05   \n",
       "2016-05-04       2016-05-04           2017-09-28       2019-11-26 2019-11-26   \n",
       "\n",
       "                                                     result link  \\\n",
       "priority date                                                      \n",
       "2018-01-02     https://patents.google.com/patent/US2019020484...   \n",
       "2012-04-13      https://patents.google.com/patent/US9315178B1/en   \n",
       "2017-01-13     https://patents.google.com/patent/US2018020125...   \n",
       "2015-03-19      https://patents.google.com/patent/US9835465B2/en   \n",
       "2016-05-04     https://patents.google.com/patent/US10486699B2/en   \n",
       "\n",
       "                                                        abstract  \\\n",
       "priority date                                                      \n",
       "2018-01-02     [, Abstract\\nA vehicle, system and method of a...   \n",
       "2012-04-13     [, Abstract\\nIn an example method, a vehicle c...   \n",
       "2017-01-13     [, Abstract\\nMethod and apparatus are disclose...   \n",
       "2015-03-19     [, Abstract\\nA method for operating a motor ve...   \n",
       "2016-05-04     [, Abstract\\nA vehicle system includes a proce...   \n",
       "\n",
       "                                                            text  \n",
       "priority date                                                     \n",
       "2018-01-02     [, Abstract\\nA vehicle, system and method of a...  \n",
       "2012-04-13     [, Abstract\\nIn an example method, a vehicle c...  \n",
       "2017-01-13     [, Abstract\\nMethod and apparatus are disclose...  \n",
       "2015-03-19     [, Abstract\\nA method for operating a motor ve...  \n",
       "2016-05-04     [, Abstract\\nA vehicle system includes a proce...  "
      ]
     },
     "execution_count": 55,
     "metadata": {},
     "output_type": "execute_result"
    }
   ],
   "source": [
    "df.head()"
   ]
  },
  {
   "cell_type": "markdown",
   "metadata": {},
   "source": [
    "The column `text` is a list. We can use `explode()` function to create rows from it"
   ]
  },
  {
   "cell_type": "code",
   "execution_count": 57,
   "metadata": {},
   "outputs": [],
   "source": [
    "df = df.explode('text')"
   ]
  },
  {
   "cell_type": "code",
   "execution_count": null,
   "metadata": {},
   "outputs": [
    {
     "data": {
      "text/html": [
       "<div>\n",
       "<style scoped>\n",
       "    .dataframe tbody tr th:only-of-type {\n",
       "        vertical-align: middle;\n",
       "    }\n",
       "\n",
       "    .dataframe tbody tr th {\n",
       "        vertical-align: top;\n",
       "    }\n",
       "\n",
       "    .dataframe thead th {\n",
       "        text-align: right;\n",
       "    }\n",
       "</style>\n",
       "<table border=\"1\" class=\"dataframe\">\n",
       "  <thead>\n",
       "    <tr style=\"text-align: right;\">\n",
       "      <th></th>\n",
       "      <th>id</th>\n",
       "      <th>title</th>\n",
       "      <th>assignee</th>\n",
       "      <th>inventor/author</th>\n",
       "      <th>priority date</th>\n",
       "      <th>filing/creation date</th>\n",
       "      <th>publication date</th>\n",
       "      <th>grant date</th>\n",
       "      <th>result link</th>\n",
       "      <th>abstract</th>\n",
       "      <th>text</th>\n",
       "    </tr>\n",
       "    <tr>\n",
       "      <th>priority date</th>\n",
       "      <th></th>\n",
       "      <th></th>\n",
       "      <th></th>\n",
       "      <th></th>\n",
       "      <th></th>\n",
       "      <th></th>\n",
       "      <th></th>\n",
       "      <th></th>\n",
       "      <th></th>\n",
       "      <th></th>\n",
       "      <th></th>\n",
       "    </tr>\n",
       "  </thead>\n",
       "  <tbody>\n",
       "    <tr>\n",
       "      <th>2018-01-02</th>\n",
       "      <td>US-2019204842-A1</td>\n",
       "      <td>Trajectory planner with dynamic cost learning ...</td>\n",
       "      <td>GM Global Technology Operations LLC</td>\n",
       "      <td>Sayyed Rouhollah Jafari Tafti, Guangyu J. Zou,...</td>\n",
       "      <td>2018-01-02</td>\n",
       "      <td>2018-01-02</td>\n",
       "      <td>2019-07-04</td>\n",
       "      <td>NaT</td>\n",
       "      <td>https://patents.google.com/patent/US2019020484...</td>\n",
       "      <td>[, Abstract\\nA vehicle, system and method of a...</td>\n",
       "      <td></td>\n",
       "    </tr>\n",
       "    <tr>\n",
       "      <th>2018-01-02</th>\n",
       "      <td>US-2019204842-A1</td>\n",
       "      <td>Trajectory planner with dynamic cost learning ...</td>\n",
       "      <td>GM Global Technology Operations LLC</td>\n",
       "      <td>Sayyed Rouhollah Jafari Tafti, Guangyu J. Zou,...</td>\n",
       "      <td>2018-01-02</td>\n",
       "      <td>2018-01-02</td>\n",
       "      <td>2019-07-04</td>\n",
       "      <td>NaT</td>\n",
       "      <td>https://patents.google.com/patent/US2019020484...</td>\n",
       "      <td>[, Abstract\\nA vehicle, system and method of a...</td>\n",
       "      <td>Abstract\\nA vehicle, system and method of auto...</td>\n",
       "    </tr>\n",
       "    <tr>\n",
       "      <th>2012-04-13</th>\n",
       "      <td>US-9315178-B1</td>\n",
       "      <td>Model checking for autonomous vehicles</td>\n",
       "      <td>Google Inc.</td>\n",
       "      <td>David I. Ferguson, Dmitri A. Dolgov, Christoph...</td>\n",
       "      <td>2012-04-13</td>\n",
       "      <td>2012-04-13</td>\n",
       "      <td>2016-04-19</td>\n",
       "      <td>2016-04-19</td>\n",
       "      <td>https://patents.google.com/patent/US9315178B1/en</td>\n",
       "      <td>[, Abstract\\nIn an example method, a vehicle c...</td>\n",
       "      <td></td>\n",
       "    </tr>\n",
       "  </tbody>\n",
       "</table>\n",
       "</div>"
      ],
      "text/plain": [
       "                             id  \\\n",
       "priority date                     \n",
       "2018-01-02     US-2019204842-A1   \n",
       "2018-01-02     US-2019204842-A1   \n",
       "2012-04-13        US-9315178-B1   \n",
       "\n",
       "                                                           title  \\\n",
       "priority date                                                      \n",
       "2018-01-02     Trajectory planner with dynamic cost learning ...   \n",
       "2018-01-02     Trajectory planner with dynamic cost learning ...   \n",
       "2012-04-13               Model checking for autonomous vehicles    \n",
       "\n",
       "                                          assignee  \\\n",
       "priority date                                        \n",
       "2018-01-02     GM Global Technology Operations LLC   \n",
       "2018-01-02     GM Global Technology Operations LLC   \n",
       "2012-04-13                             Google Inc.   \n",
       "\n",
       "                                                 inventor/author  \\\n",
       "priority date                                                      \n",
       "2018-01-02     Sayyed Rouhollah Jafari Tafti, Guangyu J. Zou,...   \n",
       "2018-01-02     Sayyed Rouhollah Jafari Tafti, Guangyu J. Zou,...   \n",
       "2012-04-13     David I. Ferguson, Dmitri A. Dolgov, Christoph...   \n",
       "\n",
       "              priority date filing/creation date publication date grant date  \\\n",
       "priority date                                                                  \n",
       "2018-01-02       2018-01-02           2018-01-02       2019-07-04        NaT   \n",
       "2018-01-02       2018-01-02           2018-01-02       2019-07-04        NaT   \n",
       "2012-04-13       2012-04-13           2012-04-13       2016-04-19 2016-04-19   \n",
       "\n",
       "                                                     result link  \\\n",
       "priority date                                                      \n",
       "2018-01-02     https://patents.google.com/patent/US2019020484...   \n",
       "2018-01-02     https://patents.google.com/patent/US2019020484...   \n",
       "2012-04-13      https://patents.google.com/patent/US9315178B1/en   \n",
       "\n",
       "                                                        abstract  \\\n",
       "priority date                                                      \n",
       "2018-01-02     [, Abstract\\nA vehicle, system and method of a...   \n",
       "2018-01-02     [, Abstract\\nA vehicle, system and method of a...   \n",
       "2012-04-13     [, Abstract\\nIn an example method, a vehicle c...   \n",
       "\n",
       "                                                            text  \n",
       "priority date                                                     \n",
       "2018-01-02                                                        \n",
       "2018-01-02     Abstract\\nA vehicle, system and method of auto...  \n",
       "2012-04-13                                                        "
      ]
     },
     "execution_count": 59,
     "metadata": {},
     "output_type": "execute_result"
    }
   ],
   "source": [
    "df.head(3)"
   ]
  },
  {
   "cell_type": "markdown",
   "metadata": {},
   "source": [
    "Let's remove the rows where text is empty"
   ]
  },
  {
   "cell_type": "code",
   "execution_count": 64,
   "metadata": {},
   "outputs": [],
   "source": [
    "df = df[df['text'].str.len() > 10]"
   ]
  },
  {
   "cell_type": "code",
   "execution_count": 67,
   "metadata": {},
   "outputs": [
    {
     "data": {
      "text/html": [
       "<div>\n",
       "<style scoped>\n",
       "    .dataframe tbody tr th:only-of-type {\n",
       "        vertical-align: middle;\n",
       "    }\n",
       "\n",
       "    .dataframe tbody tr th {\n",
       "        vertical-align: top;\n",
       "    }\n",
       "\n",
       "    .dataframe thead th {\n",
       "        text-align: right;\n",
       "    }\n",
       "</style>\n",
       "<table border=\"1\" class=\"dataframe\">\n",
       "  <thead>\n",
       "    <tr style=\"text-align: right;\">\n",
       "      <th></th>\n",
       "      <th>id</th>\n",
       "      <th>title</th>\n",
       "      <th>assignee</th>\n",
       "      <th>inventor/author</th>\n",
       "      <th>priority date</th>\n",
       "      <th>filing/creation date</th>\n",
       "      <th>publication date</th>\n",
       "      <th>grant date</th>\n",
       "      <th>result link</th>\n",
       "      <th>abstract</th>\n",
       "      <th>text</th>\n",
       "    </tr>\n",
       "    <tr>\n",
       "      <th>priority date</th>\n",
       "      <th></th>\n",
       "      <th></th>\n",
       "      <th></th>\n",
       "      <th></th>\n",
       "      <th></th>\n",
       "      <th></th>\n",
       "      <th></th>\n",
       "      <th></th>\n",
       "      <th></th>\n",
       "      <th></th>\n",
       "      <th></th>\n",
       "    </tr>\n",
       "  </thead>\n",
       "  <tbody>\n",
       "    <tr>\n",
       "      <th>2018-01-02</th>\n",
       "      <td>US-2019204842-A1</td>\n",
       "      <td>Trajectory planner with dynamic cost learning ...</td>\n",
       "      <td>GM Global Technology Operations LLC</td>\n",
       "      <td>Sayyed Rouhollah Jafari Tafti, Guangyu J. Zou,...</td>\n",
       "      <td>2018-01-02</td>\n",
       "      <td>2018-01-02</td>\n",
       "      <td>2019-07-04</td>\n",
       "      <td>NaT</td>\n",
       "      <td>https://patents.google.com/patent/US2019020484...</td>\n",
       "      <td>[, Abstract\\nA vehicle, system and method of a...</td>\n",
       "      <td>Abstract\\nA vehicle, system and method of auto...</td>\n",
       "    </tr>\n",
       "    <tr>\n",
       "      <th>2012-04-13</th>\n",
       "      <td>US-9315178-B1</td>\n",
       "      <td>Model checking for autonomous vehicles</td>\n",
       "      <td>Google Inc.</td>\n",
       "      <td>David I. Ferguson, Dmitri A. Dolgov, Christoph...</td>\n",
       "      <td>2012-04-13</td>\n",
       "      <td>2012-04-13</td>\n",
       "      <td>2016-04-19</td>\n",
       "      <td>2016-04-19</td>\n",
       "      <td>https://patents.google.com/patent/US9315178B1/en</td>\n",
       "      <td>[, Abstract\\nIn an example method, a vehicle c...</td>\n",
       "      <td>Abstract\\nIn an example method, a vehicle conf...</td>\n",
       "    </tr>\n",
       "    <tr>\n",
       "      <th>2017-01-13</th>\n",
       "      <td>US-2018201256-A1</td>\n",
       "      <td>Autonomous parking of vehicles inperpendicular...</td>\n",
       "      <td>Ford Global Technologies, Llc</td>\n",
       "      <td>Eric Hongtei Tseng, Li Xu, Kyle Simmons, Dougl...</td>\n",
       "      <td>2017-01-13</td>\n",
       "      <td>2017-01-13</td>\n",
       "      <td>2018-07-19</td>\n",
       "      <td>NaT</td>\n",
       "      <td>https://patents.google.com/patent/US2018020125...</td>\n",
       "      <td>[, Abstract\\nMethod and apparatus are disclose...</td>\n",
       "      <td>Abstract\\nMethod and apparatus are disclosed f...</td>\n",
       "    </tr>\n",
       "  </tbody>\n",
       "</table>\n",
       "</div>"
      ],
      "text/plain": [
       "                             id  \\\n",
       "priority date                     \n",
       "2018-01-02     US-2019204842-A1   \n",
       "2012-04-13        US-9315178-B1   \n",
       "2017-01-13     US-2018201256-A1   \n",
       "\n",
       "                                                           title  \\\n",
       "priority date                                                      \n",
       "2018-01-02     Trajectory planner with dynamic cost learning ...   \n",
       "2012-04-13               Model checking for autonomous vehicles    \n",
       "2017-01-13     Autonomous parking of vehicles inperpendicular...   \n",
       "\n",
       "                                          assignee  \\\n",
       "priority date                                        \n",
       "2018-01-02     GM Global Technology Operations LLC   \n",
       "2012-04-13                             Google Inc.   \n",
       "2017-01-13           Ford Global Technologies, Llc   \n",
       "\n",
       "                                                 inventor/author  \\\n",
       "priority date                                                      \n",
       "2018-01-02     Sayyed Rouhollah Jafari Tafti, Guangyu J. Zou,...   \n",
       "2012-04-13     David I. Ferguson, Dmitri A. Dolgov, Christoph...   \n",
       "2017-01-13     Eric Hongtei Tseng, Li Xu, Kyle Simmons, Dougl...   \n",
       "\n",
       "              priority date filing/creation date publication date grant date  \\\n",
       "priority date                                                                  \n",
       "2018-01-02       2018-01-02           2018-01-02       2019-07-04        NaT   \n",
       "2012-04-13       2012-04-13           2012-04-13       2016-04-19 2016-04-19   \n",
       "2017-01-13       2017-01-13           2017-01-13       2018-07-19        NaT   \n",
       "\n",
       "                                                     result link  \\\n",
       "priority date                                                      \n",
       "2018-01-02     https://patents.google.com/patent/US2019020484...   \n",
       "2012-04-13      https://patents.google.com/patent/US9315178B1/en   \n",
       "2017-01-13     https://patents.google.com/patent/US2018020125...   \n",
       "\n",
       "                                                        abstract  \\\n",
       "priority date                                                      \n",
       "2018-01-02     [, Abstract\\nA vehicle, system and method of a...   \n",
       "2012-04-13     [, Abstract\\nIn an example method, a vehicle c...   \n",
       "2017-01-13     [, Abstract\\nMethod and apparatus are disclose...   \n",
       "\n",
       "                                                            text  \n",
       "priority date                                                     \n",
       "2018-01-02     Abstract\\nA vehicle, system and method of auto...  \n",
       "2012-04-13     Abstract\\nIn an example method, a vehicle conf...  \n",
       "2017-01-13     Abstract\\nMethod and apparatus are disclosed f...  "
      ]
     },
     "execution_count": 67,
     "metadata": {},
     "output_type": "execute_result"
    }
   ],
   "source": [
    "df.head(3)"
   ]
  },
  {
   "cell_type": "markdown",
   "metadata": {},
   "source": [
    "Save the new dastaframe as pickle"
   ]
  },
  {
   "cell_type": "code",
   "execution_count": 68,
   "metadata": {
    "tags": []
   },
   "outputs": [],
   "source": [
    "output_filepath = \"./data/outputs/autonomous_clean.pkl\"\n",
    "df.to_pickle(output_filepath)"
   ]
  },
  {
   "cell_type": "code",
   "execution_count": null,
   "metadata": {},
   "outputs": [],
   "source": []
  }
 ],
 "metadata": {
  "kernelspec": {
   "display_name": "Python 3 (ipykernel)",
   "language": "python",
   "name": "python3"
  },
  "language_info": {
   "codemirror_mode": {
    "name": "ipython",
    "version": 3
   },
   "file_extension": ".py",
   "mimetype": "text/x-python",
   "name": "python",
   "nbconvert_exporter": "python",
   "pygments_lexer": "ipython3",
   "version": "3.9.7"
  }
 },
 "nbformat": 4,
 "nbformat_minor": 4
}
