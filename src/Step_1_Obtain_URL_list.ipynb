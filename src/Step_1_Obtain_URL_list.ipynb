{
 "cells": [
  {
   "cell_type": "code",
   "execution_count": 24,
   "metadata": {
    "tags": []
   },
   "outputs": [],
   "source": [
    "import pandas as pd"
   ]
  },
  {
   "cell_type": "markdown",
   "metadata": {},
   "source": [
    "## Obtain list of URLs for patents from Google Patents"
   ]
  },
  {
   "cell_type": "markdown",
   "metadata": {},
   "source": [
    "I have searched for keyword \"autonomous vehicles\" in patents.google.com, and date-limited the search to patents filed in the US from the year 2012. The link to this search result is provided below."
   ]
  },
  {
   "cell_type": "markdown",
   "metadata": {},
   "source": [
    "https://patents.google.com/?q=autonomous+vehicles&country=US&after=priority:20120101"
   ]
  },
  {
   "cell_type": "code",
   "execution_count": 25,
   "metadata": {
    "tags": []
   },
   "outputs": [],
   "source": [
    "# I am loading the csv file generated in the patents.google.com website\n",
    "# I am  assigning column names\n",
    "file_path = \"./data/autonomous_full.csv\"\n",
    "column_names = [\n",
    "    \"id\",\n",
    "    \"title\",\n",
    "    \"assignee\",\n",
    "    \"inventor/author\",\n",
    "    \"priority date\",\n",
    "    \"filing/creation date\",\n",
    "    \"publication date\",\n",
    "    \"grant date\",\n",
    "    \"result link\",\n",
    "]\n",
    "df = pd.read_csv(file_path, sep=\",\", names=column_names)"
   ]
  },
  {
   "cell_type": "markdown",
   "metadata": {},
   "source": [
    "Get the first 3 rows using `head(n)`"
   ]
  },
  {
   "cell_type": "code",
   "execution_count": 26,
   "metadata": {},
   "outputs": [
    {
     "data": {
      "text/html": [
       "<div>\n",
       "<style scoped>\n",
       "    .dataframe tbody tr th:only-of-type {\n",
       "        vertical-align: middle;\n",
       "    }\n",
       "\n",
       "    .dataframe tbody tr th {\n",
       "        vertical-align: top;\n",
       "    }\n",
       "\n",
       "    .dataframe thead th {\n",
       "        text-align: right;\n",
       "    }\n",
       "</style>\n",
       "<table border=\"1\" class=\"dataframe\">\n",
       "  <thead>\n",
       "    <tr style=\"text-align: right;\">\n",
       "      <th></th>\n",
       "      <th>id</th>\n",
       "      <th>title</th>\n",
       "      <th>assignee</th>\n",
       "      <th>inventor/author</th>\n",
       "      <th>priority date</th>\n",
       "      <th>filing/creation date</th>\n",
       "      <th>publication date</th>\n",
       "      <th>grant date</th>\n",
       "      <th>result link</th>\n",
       "    </tr>\n",
       "  </thead>\n",
       "  <tbody>\n",
       "    <tr>\n",
       "      <th>0</th>\n",
       "      <td>search URL:</td>\n",
       "      <td>https://patents.google.com/?q=autonomous+vehic...</td>\n",
       "      <td>NaN</td>\n",
       "      <td>NaN</td>\n",
       "      <td>NaN</td>\n",
       "      <td>NaN</td>\n",
       "      <td>NaN</td>\n",
       "      <td>NaN</td>\n",
       "      <td>NaN</td>\n",
       "    </tr>\n",
       "    <tr>\n",
       "      <th>1</th>\n",
       "      <td>id</td>\n",
       "      <td>title</td>\n",
       "      <td>assignee</td>\n",
       "      <td>inventor/author</td>\n",
       "      <td>priority date</td>\n",
       "      <td>filing/creation date</td>\n",
       "      <td>publication date</td>\n",
       "      <td>grant date</td>\n",
       "      <td>result link</td>\n",
       "    </tr>\n",
       "    <tr>\n",
       "      <th>2</th>\n",
       "      <td>US-2019204842-A1</td>\n",
       "      <td>Trajectory planner with dynamic cost learning ...</td>\n",
       "      <td>GM Global Technology Operations LLC</td>\n",
       "      <td>Sayyed Rouhollah Jafari Tafti, Guangyu J. Zou,...</td>\n",
       "      <td>2018-01-02</td>\n",
       "      <td>2018-01-02</td>\n",
       "      <td>2019-07-04</td>\n",
       "      <td>NaN</td>\n",
       "      <td>https://patents.google.com/patent/US2019020484...</td>\n",
       "    </tr>\n",
       "  </tbody>\n",
       "</table>\n",
       "</div>"
      ],
      "text/plain": [
       "                 id                                              title  \\\n",
       "0       search URL:  https://patents.google.com/?q=autonomous+vehic...   \n",
       "1                id                                              title   \n",
       "2  US-2019204842-A1  Trajectory planner with dynamic cost learning ...   \n",
       "\n",
       "                              assignee  \\\n",
       "0                                  NaN   \n",
       "1                             assignee   \n",
       "2  GM Global Technology Operations LLC   \n",
       "\n",
       "                                     inventor/author  priority date  \\\n",
       "0                                                NaN            NaN   \n",
       "1                                    inventor/author  priority date   \n",
       "2  Sayyed Rouhollah Jafari Tafti, Guangyu J. Zou,...     2018-01-02   \n",
       "\n",
       "   filing/creation date  publication date  grant date  \\\n",
       "0                   NaN               NaN         NaN   \n",
       "1  filing/creation date  publication date  grant date   \n",
       "2            2018-01-02        2019-07-04         NaN   \n",
       "\n",
       "                                         result link  \n",
       "0                                                NaN  \n",
       "1                                        result link  \n",
       "2  https://patents.google.com/patent/US2019020484...  "
      ]
     },
     "execution_count": 26,
     "metadata": {},
     "output_type": "execute_result"
    }
   ],
   "source": [
    "df.head(3)"
   ]
  },
  {
   "cell_type": "code",
   "execution_count": 27,
   "metadata": {},
   "outputs": [],
   "source": [
    "# The DataFrame contains two rows describing the csv\n",
    "# Removing the two rows to prepare a clean DataFrame ready for analysis\n",
    "df = df[2:]\n",
    "df = df.reset_index(drop=True)\n"
   ]
  },
  {
   "cell_type": "code",
   "execution_count": 28,
   "metadata": {},
   "outputs": [
    {
     "data": {
      "text/html": [
       "<div>\n",
       "<style scoped>\n",
       "    .dataframe tbody tr th:only-of-type {\n",
       "        vertical-align: middle;\n",
       "    }\n",
       "\n",
       "    .dataframe tbody tr th {\n",
       "        vertical-align: top;\n",
       "    }\n",
       "\n",
       "    .dataframe thead th {\n",
       "        text-align: right;\n",
       "    }\n",
       "</style>\n",
       "<table border=\"1\" class=\"dataframe\">\n",
       "  <thead>\n",
       "    <tr style=\"text-align: right;\">\n",
       "      <th></th>\n",
       "      <th>id</th>\n",
       "      <th>title</th>\n",
       "      <th>assignee</th>\n",
       "      <th>inventor/author</th>\n",
       "      <th>priority date</th>\n",
       "      <th>filing/creation date</th>\n",
       "      <th>publication date</th>\n",
       "      <th>grant date</th>\n",
       "      <th>result link</th>\n",
       "    </tr>\n",
       "  </thead>\n",
       "  <tbody>\n",
       "    <tr>\n",
       "      <th>0</th>\n",
       "      <td>US-2019204842-A1</td>\n",
       "      <td>Trajectory planner with dynamic cost learning ...</td>\n",
       "      <td>GM Global Technology Operations LLC</td>\n",
       "      <td>Sayyed Rouhollah Jafari Tafti, Guangyu J. Zou,...</td>\n",
       "      <td>2018-01-02</td>\n",
       "      <td>2018-01-02</td>\n",
       "      <td>2019-07-04</td>\n",
       "      <td>NaN</td>\n",
       "      <td>https://patents.google.com/patent/US2019020484...</td>\n",
       "    </tr>\n",
       "    <tr>\n",
       "      <th>1</th>\n",
       "      <td>US-9315178-B1</td>\n",
       "      <td>Model checking for autonomous vehicles</td>\n",
       "      <td>Google Inc.</td>\n",
       "      <td>David I. Ferguson, Dmitri A. Dolgov, Christoph...</td>\n",
       "      <td>2012-04-13</td>\n",
       "      <td>2012-04-13</td>\n",
       "      <td>2016-04-19</td>\n",
       "      <td>2016-04-19</td>\n",
       "      <td>https://patents.google.com/patent/US9315178B1/en</td>\n",
       "    </tr>\n",
       "    <tr>\n",
       "      <th>2</th>\n",
       "      <td>US-2018201256-A1</td>\n",
       "      <td>Autonomous parking of vehicles inperpendicular...</td>\n",
       "      <td>Ford Global Technologies, Llc</td>\n",
       "      <td>Eric Hongtei Tseng, Li Xu, Kyle Simmons, Dougl...</td>\n",
       "      <td>2017-01-13</td>\n",
       "      <td>2017-01-13</td>\n",
       "      <td>2018-07-19</td>\n",
       "      <td>NaN</td>\n",
       "      <td>https://patents.google.com/patent/US2018020125...</td>\n",
       "    </tr>\n",
       "  </tbody>\n",
       "</table>\n",
       "</div>"
      ],
      "text/plain": [
       "                 id                                              title  \\\n",
       "0  US-2019204842-A1  Trajectory planner with dynamic cost learning ...   \n",
       "1     US-9315178-B1            Model checking for autonomous vehicles    \n",
       "2  US-2018201256-A1  Autonomous parking of vehicles inperpendicular...   \n",
       "\n",
       "                              assignee  \\\n",
       "0  GM Global Technology Operations LLC   \n",
       "1                          Google Inc.   \n",
       "2        Ford Global Technologies, Llc   \n",
       "\n",
       "                                     inventor/author priority date  \\\n",
       "0  Sayyed Rouhollah Jafari Tafti, Guangyu J. Zou,...    2018-01-02   \n",
       "1  David I. Ferguson, Dmitri A. Dolgov, Christoph...    2012-04-13   \n",
       "2  Eric Hongtei Tseng, Li Xu, Kyle Simmons, Dougl...    2017-01-13   \n",
       "\n",
       "  filing/creation date publication date  grant date  \\\n",
       "0           2018-01-02       2019-07-04         NaN   \n",
       "1           2012-04-13       2016-04-19  2016-04-19   \n",
       "2           2017-01-13       2018-07-19         NaN   \n",
       "\n",
       "                                         result link  \n",
       "0  https://patents.google.com/patent/US2019020484...  \n",
       "1   https://patents.google.com/patent/US9315178B1/en  \n",
       "2  https://patents.google.com/patent/US2018020125...  "
      ]
     },
     "execution_count": 28,
     "metadata": {},
     "output_type": "execute_result"
    }
   ],
   "source": [
    "df.head(3)"
   ]
  },
  {
   "cell_type": "markdown",
   "metadata": {},
   "source": [
    "#### Data types"
   ]
  },
  {
   "cell_type": "code",
   "execution_count": 29,
   "metadata": {},
   "outputs": [
    {
     "data": {
      "text/plain": [
       "id                      object\n",
       "title                   object\n",
       "assignee                object\n",
       "inventor/author         object\n",
       "priority date           object\n",
       "filing/creation date    object\n",
       "publication date        object\n",
       "grant date              object\n",
       "result link             object\n",
       "dtype: object"
      ]
     },
     "execution_count": 29,
     "metadata": {},
     "output_type": "execute_result"
    }
   ],
   "source": [
    "df.dtypes"
   ]
  },
  {
   "cell_type": "markdown",
   "metadata": {},
   "source": [
    "#### Describe"
   ]
  },
  {
   "cell_type": "code",
   "execution_count": 30,
   "metadata": {},
   "outputs": [
    {
     "data": {
      "text/html": [
       "<div>\n",
       "<style scoped>\n",
       "    .dataframe tbody tr th:only-of-type {\n",
       "        vertical-align: middle;\n",
       "    }\n",
       "\n",
       "    .dataframe tbody tr th {\n",
       "        vertical-align: top;\n",
       "    }\n",
       "\n",
       "    .dataframe thead th {\n",
       "        text-align: right;\n",
       "    }\n",
       "</style>\n",
       "<table border=\"1\" class=\"dataframe\">\n",
       "  <thead>\n",
       "    <tr style=\"text-align: right;\">\n",
       "      <th></th>\n",
       "      <th>id</th>\n",
       "      <th>title</th>\n",
       "      <th>assignee</th>\n",
       "      <th>inventor/author</th>\n",
       "      <th>priority date</th>\n",
       "      <th>filing/creation date</th>\n",
       "      <th>publication date</th>\n",
       "      <th>grant date</th>\n",
       "      <th>result link</th>\n",
       "    </tr>\n",
       "  </thead>\n",
       "  <tbody>\n",
       "    <tr>\n",
       "      <th>count</th>\n",
       "      <td>25000</td>\n",
       "      <td>25000</td>\n",
       "      <td>25000</td>\n",
       "      <td>25000</td>\n",
       "      <td>24934</td>\n",
       "      <td>25000</td>\n",
       "      <td>25000</td>\n",
       "      <td>16319</td>\n",
       "      <td>25000</td>\n",
       "    </tr>\n",
       "    <tr>\n",
       "      <th>unique</th>\n",
       "      <td>25000</td>\n",
       "      <td>23367</td>\n",
       "      <td>6595</td>\n",
       "      <td>21421</td>\n",
       "      <td>2551</td>\n",
       "      <td>2774</td>\n",
       "      <td>881</td>\n",
       "      <td>432</td>\n",
       "      <td>25000</td>\n",
       "    </tr>\n",
       "    <tr>\n",
       "      <th>top</th>\n",
       "      <td>US-2019204842-A1</td>\n",
       "      <td>Vehicle control device, vehicle control method...</td>\n",
       "      <td>Ford Global Technologies, Llc</td>\n",
       "      <td>Christopher P. Ricci</td>\n",
       "      <td>2013-03-15</td>\n",
       "      <td>2017-09-29</td>\n",
       "      <td>2020-10-27</td>\n",
       "      <td>2020-10-27</td>\n",
       "      <td>https://patents.google.com/patent/US2019020484...</td>\n",
       "    </tr>\n",
       "    <tr>\n",
       "      <th>freq</th>\n",
       "      <td>1</td>\n",
       "      <td>62</td>\n",
       "      <td>972</td>\n",
       "      <td>30</td>\n",
       "      <td>163</td>\n",
       "      <td>56</td>\n",
       "      <td>94</td>\n",
       "      <td>94</td>\n",
       "      <td>1</td>\n",
       "    </tr>\n",
       "  </tbody>\n",
       "</table>\n",
       "</div>"
      ],
      "text/plain": [
       "                      id                                              title  \\\n",
       "count              25000                                              25000   \n",
       "unique             25000                                              23367   \n",
       "top     US-2019204842-A1  Vehicle control device, vehicle control method...   \n",
       "freq                   1                                                 62   \n",
       "\n",
       "                             assignee       inventor/author priority date  \\\n",
       "count                           25000                 25000         24934   \n",
       "unique                           6595                 21421          2551   \n",
       "top     Ford Global Technologies, Llc  Christopher P. Ricci    2013-03-15   \n",
       "freq                              972                    30           163   \n",
       "\n",
       "       filing/creation date publication date  grant date  \\\n",
       "count                 25000            25000       16319   \n",
       "unique                 2774              881         432   \n",
       "top              2017-09-29       2020-10-27  2020-10-27   \n",
       "freq                     56               94          94   \n",
       "\n",
       "                                              result link  \n",
       "count                                               25000  \n",
       "unique                                              25000  \n",
       "top     https://patents.google.com/patent/US2019020484...  \n",
       "freq                                                    1  "
      ]
     },
     "execution_count": 30,
     "metadata": {},
     "output_type": "execute_result"
    }
   ],
   "source": [
    "df.describe()"
   ]
  },
  {
   "cell_type": "markdown",
   "metadata": {},
   "source": [
    "---"
   ]
  },
  {
   "cell_type": "markdown",
   "metadata": {},
   "source": [
    "### Pandas Output files"
   ]
  },
  {
   "cell_type": "markdown",
   "metadata": {},
   "source": [
    "- Saving Pickle (Python format)"
   ]
  },
  {
   "cell_type": "code",
   "execution_count": 31,
   "metadata": {
    "tags": []
   },
   "outputs": [],
   "source": [
    "output_filepath = \"./data/outputs/autonomous.pkl\"\n",
    "df.to_pickle(output_filepath)"
   ]
  },
  {
   "cell_type": "markdown",
   "metadata": {},
   "source": [
    "### Other types\n",
    "\n",
    "There are some other ways to save and read a pandas Dataframe.\n",
    "\n",
    "The most used ones are:\n",
    "- CSV (`.csv`): Comma separated value (doesn't preserve data types)\n",
    "    - `df.to_csv()` and `pd.read_csv()`\n",
    "- Parquet (`.parquet`): Apache format (columnar)\n",
    "    - `df.to_pickle()` and `pd.read_parquet()`\n",
    "    \n"
   ]
  },
  {
   "cell_type": "code",
   "execution_count": 32,
   "metadata": {},
   "outputs": [],
   "source": [
    "output_filepath = \"./data/outputs/autonomous.csv\"\n",
    "df.to_csv(output_filepath)"
   ]
  }
 ],
 "metadata": {
  "kernelspec": {
   "display_name": "Python 3 (ipykernel)",
   "language": "python",
   "name": "python3"
  },
  "language_info": {
   "codemirror_mode": {
    "name": "ipython",
    "version": 3
   },
   "file_extension": ".py",
   "mimetype": "text/x-python",
   "name": "python",
   "nbconvert_exporter": "python",
   "pygments_lexer": "ipython3",
   "version": "3.9.7"
  }
 },
 "nbformat": 4,
 "nbformat_minor": 4
}
